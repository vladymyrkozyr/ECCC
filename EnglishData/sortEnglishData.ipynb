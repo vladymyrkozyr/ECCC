{
 "cells": [
  {
   "cell_type": "code",
   "execution_count": 1,
   "metadata": {
    "collapsed": true
   },
   "outputs": [],
   "source": [
    "import glob\n",
    "import os\n",
    "import pandas as pd\n",
    "\n",
    "from langdetect import detect\n",
    "import nltk\n",
    "#nltk.download()   # comment after first download\n",
    "from nltk.tokenize import wordpunct_tokenize, MWETokenizer\n",
    "from nltk.corpus import stopwords\n",
    "from nltk.stem.wordnet import WordNetLemmatizer\n",
    "import gensim\n",
    "from gensim import corpora\n",
    "import string\n",
    "from numbers import Number\n",
    "from pprint import pprint\n",
    "import logging\n",
    "import operator\n",
    "\n",
    "pd.options.display.max_rows = 30"
   ]
  },
  {
   "cell_type": "code",
   "execution_count": 2,
   "metadata": {
    "collapsed": true
   },
   "outputs": [],
   "source": [
    "keywords_chosen = 'Keywords_ECCC_EN.csv'\n",
    "\n",
    "data_folder = './Accounts/*.csv'\n",
    "\n",
    "CSV_COLUMNS = ['caption_cleaned', 'hashtags']"
   ]
  },
  {
   "cell_type": "code",
   "execution_count": 3,
   "metadata": {
    "collapsed": true
   },
   "outputs": [],
   "source": [
    "# create output directory\n",
    "outputDir = os.path.dirname(data_folder) + '/output_chelsea/'\n",
    "if not os.path.exists(outputDir):\n",
    "    os.makedirs(outputDir)"
   ]
  },
  {
   "cell_type": "code",
   "execution_count": 4,
   "metadata": {
    "collapsed": true
   },
   "outputs": [],
   "source": [
    "# set of punctuations to remove from text\n",
    "exclude = set(string.punctuation)"
   ]
  },
  {
   "cell_type": "code",
   "execution_count": 5,
   "metadata": {
    "collapsed": true
   },
   "outputs": [],
   "source": [
    "stopWords = set(stopwords.words('english'))\n",
    "stopWords.add('theyre')   # an informal spelling\n",
    "\n",
    "lemma = WordNetLemmatizer()    # NLTK English lemmatizer\n",
    "\n",
    "# detect_lang function can be use to check the percentage of non English posts\n",
    "# note that missing value NaN can be detected as many different languages such english, spanish or italian\n",
    "def detect_lang(text):\n",
    "    try:\n",
    "        lang = detect(text)\n",
    "    except:\n",
    "        return 'error'\n",
    "    return lang\n",
    "\n",
    "# lemmatize_keywords also clears 'nan' from input keyword list file\n",
    "# lemmatization is conducted based on context, some words may not get lemmatized, \n",
    "# e.g. \"local eating\" does not get lemmatized to \"local eat\"\n",
    "def lemmatize_keywords(col):\n",
    "    if str(col).lower() == 'nan':\n",
    "        return ''\n",
    "    return '_'.join(lemma.lemmatize(word).lower() for word in col.split()) \n"
   ]
  },
  {
   "cell_type": "code",
   "execution_count": 6,
   "metadata": {
    "collapsed": true
   },
   "outputs": [],
   "source": [
    "# load keywords list\n",
    "pd.options.display.max_rows = 10\n",
    "KEYWORD_COL = ['Social', 'Economical', 'Environmental']\n",
    "keywords_df = pd.read_csv(keywords_chosen, encoding='utf-8')   # \"ISO-8859-1\"\n",
    "lemma_keywords_df = pd.DataFrame(columns=KEYWORD_COL)\n",
    "for col in KEYWORD_COL:\n",
    "    lemma_keywords_df[col] = keywords_df[col].astype(str).apply(lemmatize_keywords)\n",
    "#display(lemma_keywords_df)\n",
    "soc_list = set(lemma_keywords_df['Social'].tolist())\n",
    "econ_list = set(lemma_keywords_df['Economical'].tolist())\n",
    "env_list = set(lemma_keywords_df['Environmental'].tolist())\n",
    "keywords_list = soc_list.union(econ_list).union(env_list)\n",
    "\n",
    "# if there are punctuations in the keywords list, these punctuation will be kept regardless of puncturation removal step\n",
    "punc_keep = set()\n",
    "for word in keywords_list:\n",
    "    for char in word:\n",
    "        if char in exclude:\n",
    "            punc_keep.add(char)\n",
    "\n",
    "for punc in punc_keep:\n",
    "    exclude.remove(punc)\n",
    "\n",
    "# Add all words in the given keyword list to pre-defined token dictionary\n",
    "multi_word = [w.split('_') for w in keywords_list ]   #if '_' in w \n",
    "tokenizer = MWETokenizer(multi_word)\n"
   ]
  },
  {
   "cell_type": "code",
   "execution_count": 7,
   "metadata": {
    "collapsed": true
   },
   "outputs": [],
   "source": [
    "def lemmatize_text(row): \n",
    "    #print(row['Unnamed: 0'])\n",
    "    #caption_cleaned =  str(row['caption_cleaned']).replace('nan', '')\n",
    "    # because the \"hashtags\" column is a string but not a list anymore, the following removes [,]\n",
    "    #hashtags = str(row['hashtags'])\n",
    "    #hashtags = hashtags.replace('[', '')\n",
    "    #hashtags = hashtags.replace(']', '')\n",
    "    #hashtags = hashtags.replace('\\'', '')\n",
    "    #hashtags = hashtags.replace(',', '')\n",
    "    # keyword search is done on both cleaned caption and hashtags\n",
    "    #text = hashtags + ' '+ caption_cleaned\n",
    "    text = str(row['caption_original'])\n",
    "    #print(text)\n",
    "    text = text.replace('’', '\\'')\n",
    "    tokens = tokenizer.tokenize(text.split())   \n",
    "    # remove stop words\n",
    "    stop_free = ' '.join(w for w in tokens if w not in stopWords and len(w) > 1)\n",
    "    # remove punctuation\n",
    "    punc_free = ''.join(ch for ch in stop_free if ch not in exclude)\n",
    "    # lemmatize\n",
    "    lemmas = ' '.join(lemma.lemmatize(word).lower() for word in punc_free.split() if len(lemma.lemmatize(word)) > 2)\n",
    "    # remove stop words that appear after lemmatization\n",
    "    stop_free_2 = ' '.join(w for w in lemmas.split() if w not in stopWords and len(w) > 1)\n",
    "    #print(stop_free_2)\n",
    "    return stop_free_2.split()\n",
    "\n",
    "# assign a category based the max number of keywords found in each category\n",
    "def find_category(row):\n",
    "    text = row['lemmatized_text']\n",
    "    keywords_found = []\n",
    "    counter = {'Social': 0, 'Economical': 0, 'Environmental': 0}\n",
    "    category = 'unknown'\n",
    "    for word in text:\n",
    "        if word in soc_list:\n",
    "            counter['Social'] += 1\n",
    "            keywords_found.append(word)\n",
    "        if word in econ_list:\n",
    "            counter['Economical'] += 1\n",
    "            keywords_found.append(word)\n",
    "        if word in env_list:\n",
    "            counter['Environmental'] += 1\n",
    "            keywords_found.append(word)\n",
    "    if len(keywords_found) > 0:\n",
    "        category = max(counter.items(), key=operator.itemgetter(1))[0]    \n",
    "    return keywords_found, category"
   ]
  },
  {
   "cell_type": "code",
   "execution_count": 14,
   "metadata": {},
   "outputs": [
    {
     "name": "stdout",
     "output_type": "stream",
     "text": [
      "./Accounts/ParksCanada_tweets.csv\n",
      "./Accounts/CanadianAgriculture_facebook_statuses.csv\n",
      "./Accounts/CCG_GCC_tweets.csv\n",
      "./Accounts/FisheriesOceansCanada_facebook_statuses.csv\n",
      "./Accounts/CanadianCoastGuard_facebook_statuses.csv\n",
      "./Accounts/YourMoneyMattersCanada_facebook_statuses.csv\n",
      "./Accounts/EnvironmentandClimateChange_facebook_statuses.csv\n",
      "./Accounts/parks.canada_posts.csv\n",
      "./Accounts/TransportandInfrastructureinCanada_facebook_statuses.csv\n",
      "./Accounts/environmentca_tweets.csv\n",
      "./Accounts/NRCan_tweets.csv\n",
      "./Accounts/ENERGYSTAR_CAN_tweets.csv\n",
      "./Accounts/DFO_Gulf_tweets.csv\n",
      "./Accounts/ec_minister_tweets.csv\n",
      "./Accounts/DFO_Central_tweets.csv\n",
      "./Accounts/DFO_Pacific_tweets.csv\n",
      "./Accounts/DFO_NL_tweets.csv\n",
      "./Accounts/DFO_CCG_Quebec_tweets.csv\n",
      "./Accounts/DFO_Science_tweets.csv\n",
      "./Accounts/Transport_gc_tweets.csv\n",
      "./Accounts/GiantMine_tweets.csv\n",
      "./Accounts/TSBCanada_tweets.csv\n",
      "./Accounts/CTA_gc_tweets.csv\n",
      "./Accounts/AskISED_tweets.csv\n",
      "./Accounts/DFO_MPO_tweets.csv\n",
      "./Accounts/GovCanNorth_facebook_statuses.csv\n",
      "./Accounts/DFO_MAR_tweets.csv\n",
      "./Accounts/GCIndigenous_tweets.csv\n",
      "./Accounts/canenvironment_posts.csv\n",
      "./Accounts/CanadianTransportationAgency_facebook_statuses.csv\n",
      "./Accounts/AAFC_Canada_tweets.csv\n",
      "./Accounts/ParksCanada_facebook_statuses.csv\n",
      "./Accounts/naturalresourcescanada_posts.csv\n"
     ]
    }
   ],
   "source": [
    "pd.options.display.max_rows = 100\n",
    "# read csv files and save targt columns to dataframe\n",
    "filePaths = glob.glob(data_folder)  \n",
    "for filename in filePaths:\n",
    "    print(filename)\n",
    "    basename = os.path.basename(filename)\n",
    "    outputFileName = outputDir + basename\n",
    "    data_df = pd.read_csv(filename, encoding = 'utf-8')\n",
    "    if data_df.shape[0] < 1:\n",
    "        data_df.to_csv(outputFileName, index=None) \n",
    "        continue\n",
    "    #data_df['lang'] = data_df['caption_cleaned'].astype(str).apply(detect_lang)\n",
    "    #data_df = data_df.drop(['category', 'words_matched_list'], axis=1)\n",
    "    data_df.fillna('')\n",
    "    #wrong_lang = data_df[data_df['lang'] != 'en'].shape[0]\n",
    "    try:\n",
    "        data_df['lemmatized_text'] = data_df.apply(lemmatize_text, axis=1)\n",
    "    except:\n",
    "        print('cannot process file: ' + basename)\n",
    "        continue\n",
    "    data_df['matched_keywords'], data_df['category'] = zip(*data_df.apply(find_category, axis=1))\n",
    "    \n",
    "    #display(data_df[['words_matched_list', 'lemmatized_text','matched_keywords', 'category']])\n",
    "    output_list = data_df.columns.tolist()\n",
    "    output_list.remove('category')\n",
    "    output_list.remove('lemmatized_text')\n",
    "    output_list.append('category')\n",
    "    output_df = data_df[output_list]\n",
    "    output_df.to_csv(outputFileName, index=None)    "
   ]
  },
  {
   "cell_type": "code",
   "execution_count": null,
   "metadata": {
    "collapsed": true
   },
   "outputs": [],
   "source": []
  },
  {
   "cell_type": "code",
   "execution_count": null,
   "metadata": {
    "collapsed": true
   },
   "outputs": [],
   "source": []
  }
 ],
 "metadata": {
  "kernelspec": {
   "display_name": "Python 3",
   "language": "python",
   "name": "python3"
  },
  "language_info": {
   "codemirror_mode": {
    "name": "ipython",
    "version": 3
   },
   "file_extension": ".py",
   "mimetype": "text/x-python",
   "name": "python",
   "nbconvert_exporter": "python",
   "pygments_lexer": "ipython3",
   "version": "3.6.2"
  }
 },
 "nbformat": 4,
 "nbformat_minor": 2
}
