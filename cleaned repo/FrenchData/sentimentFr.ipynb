{
 "cells": [
  {
   "cell_type": "code",
   "execution_count": 76,
   "metadata": {
    "collapsed": true
   },
   "outputs": [],
   "source": [
    "import pandas as pd\n",
    "import glob, os\n",
    "\n",
    "from textblob import TextBlob\n",
    "from textblob_fr import PatternTagger, PatternAnalyzer"
   ]
  },
  {
   "cell_type": "code",
   "execution_count": 91,
   "metadata": {
    "collapsed": true
   },
   "outputs": [],
   "source": [
    "def getSentiment(row):\n",
    "    text = str(row['text_original'])\n",
    "    blob = TextBlob(text, pos_tagger=PatternTagger(), analyzer=PatternAnalyzer())\n",
    "    return blob.sentiment[0]\n",
    "\n",
    "def discretizeSentiment(row):\n",
    "    result = ''\n",
    "    if row['text_sentiment_original_scores'] < 0:\n",
    "        result = 'negative'\n",
    "    if row['text_sentiment_original_scores'] == 0:\n",
    "        result = 'neutral'\n",
    "    if row['text_sentiment_original_scores'] > 0:\n",
    "        result = 'positive'\n",
    "    if result == '':\n",
    "        print ('Alert!')\n",
    "    return result\n",
    "\n",
    "\n",
    "def discretizeSentiment2(row):\n",
    "    result = ''\n",
    "    if row['average_sentiment_score'] < 0:\n",
    "        result = 'negative'\n",
    "    if row['average_sentiment_score'] == 0:\n",
    "        result = 'neutral'\n",
    "    if row['average_sentiment_score'] > 0:\n",
    "        result = 'positive'\n",
    "    if result == '':\n",
    "        print ('Alert!')\n",
    "    return result\n",
    "\n"
   ]
  },
  {
   "cell_type": "code",
   "execution_count": 104,
   "metadata": {
    "collapsed": true
   },
   "outputs": [],
   "source": [
    "def getAvgSentiment(row):\n",
    "    result = 0\n",
    "    if 'id' in row.index:\n",
    "        id = row['id']\n",
    "    else:\n",
    "        id = row['status_id']\n",
    "        \n",
    "    if id in groupedDF.index:\n",
    "        result = groupedDF[id]\n",
    "    \n",
    "    return result\n",
    "    "
   ]
  },
  {
   "cell_type": "code",
   "execution_count": 119,
   "metadata": {},
   "outputs": [
    {
     "name": "stdout",
     "output_type": "stream",
     "text": [
      "AgricultureCanadienne_facebook_comments.csv\n",
      "./Accounts/Comments\\AgricultureCanadienne_facebook_comments.csv<======>AgricultureCanadienne_facebook_statuses.csv\n",
      "environnementcan_comments.csv\n",
      "./Accounts/Comments\\environnementcan_comments.csv<======>environnementcan_posts.csv\n",
      "EnvironnementetChangementclimatique_facebook_comments.csv\n",
      "./Accounts/Comments\\EnvironnementetChangementclimatique_facebook_comments.csv<======>EnvironnementetChangementclimatique_facebook_statuses.csv\n",
      "EnvironnementetressourcesnaturellesauCanada_facebook_comments.csv\n",
      "./Accounts/Comments\\EnvironnementetressourcesnaturellesauCanada_facebook_comments.csv<======>EnvironnementetressourcesnaturellesauCanada_facebook_statuses.csv\n",
      "GardeCotiereCanadienne_facebook_comments.csv\n",
      "./Accounts/Comments\\GardeCotiereCanadienne_facebook_comments.csv<======>GardeCotiereCanadienne_facebook_statuses.csv\n",
      "OfficeDesTransportsDuCanada_facebook_comments.csv\n",
      "./Accounts/Comments\\OfficeDesTransportsDuCanada_facebook_comments.csv<======>OfficeDesTransportsDuCanada_facebook_statuses.csv\n",
      "parcs.canada_comments.csv\n",
      "./Accounts/Comments\\parcs.canada_comments.csv<======>parcs.canada_posts.csv\n",
      "ParcsCanada_facebook_comments.csv\n",
      "./Accounts/Comments\\ParcsCanada_facebook_comments.csv<======>ParcsCanada_facebook_statuses.csv\n",
      "PechesOceansCanada_facebook_comments.csv\n",
      "./Accounts/Comments\\PechesOceansCanada_facebook_comments.csv<======>PechesOceansCanada_facebook_statuses.csv\n",
      "QuestionsdargentCanada_facebook_comments.csv\n",
      "./Accounts/Comments\\QuestionsdargentCanada_facebook_comments.csv<======>QuestionsdargentCanada_facebook_statuses.csv\n",
      "ressourcenaturellescanada_comments.csv\n",
      "./Accounts/Comments\\ressourcenaturellescanada_comments.csv<======>ressourcenaturellescanada_posts.csv\n",
      "TransportsetInfrastructureauCanada_facebook_comments.csv\n",
      "./Accounts/Comments\\TransportsetInfrastructureauCanada_facebook_comments.csv<======>TransportsetInfrastructureauCanada_facebook_statuses.csv\n"
     ]
    }
   ],
   "source": [
    "commentsPath = r'./Accounts/Comments/'\n",
    "postsPath = r'./Accounts/'\n",
    "\n",
    "comments_files = glob.glob(commentsPath+\"*.csv\")\n",
    "\n",
    "\n",
    "for comment_file in comments_files:\n",
    "    \n",
    "    name = os.path.basename(comment_file)\n",
    "    print(name)\n",
    "     \n",
    "    commentsDF = pd.read_csv(comment_file, encoding='utf-8').drop(['text_sentiment_original_scores', 'text_sentiment_original_scores_type'], axis=1)\n",
    "        \n",
    "    commentsDF['text_sentiment_original_scores'] = commentsDF.apply(getSentiment, axis=1)\n",
    "    commentsDF['text_sentiment_original_scores_type'] = commentsDF.apply(discretizeSentiment, axis=1)\n",
    "    \n",
    "    # save to csv file\n",
    "    commentsDF.to_csv(commentsPath+name, encoding='utf-8', index=False)\n",
    "    \n",
    "    # do a groupby to get mean sentiment of comments per post so groupby 'post_id' for in, 'status_id' for fb\n",
    "    if 'facebook' in name:\n",
    "        groupedDF = commentsDF.groupby('status_id')['text_sentiment_original_scores'].mean()\n",
    "    else:\n",
    "        groupedDF = commentsDF.groupby('post_id')['text_sentiment_original_scores'].mean()\n",
    "    \n",
    "    # now we have the average comment sentiment for each post and I want to put it into the posts \n",
    "\n",
    "    # construct the name of the corresponding post/status file\n",
    "    if 'facebook' in name:\n",
    "        post_file = name.replace('comments', 'statuses')\n",
    "    else:\n",
    "        post_file = name.replace('comments', 'posts')\n",
    "        \n",
    "    print(comment_file+\"<======>\"+post_file)\n",
    "        \n",
    "    # read in the posts file and drop the old incorrects columns\n",
    "    postsDF = pd.read_csv(postsPath+post_file, encoding='utf-8')\n",
    "    if 'average_sentiment_score' in postsDF.columns:\n",
    "        postsDF = postsDF.drop('average_sentiment_score', axis=1)\n",
    "    if 'words_matched_list' in postsDF.columns:\n",
    "        postsDF = postsDF.drop('words_matched_list', axis=1)\n",
    "    if 'sentiment' in postsDF.columns:\n",
    "        postsDF = postsDF.drop('sentiment', axis=1)\n",
    "    if 'category' in postsDF.columns:\n",
    "        postsDF = postsDF.drop('category', axis=1)\n",
    "    \n",
    "    # now I have the posts file in a DF and I need to go through each row, \n",
    "    # look up the post/status_id in the groupedDF above and get the average sentiment and put it in a column\n",
    "    postsDF['average_sentiment_score'] = postsDF.apply(getAvgSentiment, axis=1)\n",
    "    postsDF['sentiment'] = postsDF.apply(discretizeSentiment2, axis=1)\n",
    " \n",
    "   \n",
    "    # save to csv file\n",
    "    postsDF.to_csv(postsPath+post_file, encoding='utf-8', index=False)\n",
    "\n",
    "\n",
    "\n",
    "\n",
    "\n",
    "\n",
    "    "
   ]
  },
  {
   "cell_type": "code",
   "execution_count": null,
   "metadata": {
    "collapsed": true
   },
   "outputs": [],
   "source": []
  },
  {
   "cell_type": "code",
   "execution_count": null,
   "metadata": {
    "collapsed": true
   },
   "outputs": [],
   "source": []
  }
 ],
 "metadata": {
  "kernelspec": {
   "display_name": "Python 3",
   "language": "python",
   "name": "python3"
  },
  "language_info": {
   "codemirror_mode": {
    "name": "ipython",
    "version": 3
   },
   "file_extension": ".py",
   "mimetype": "text/x-python",
   "name": "python",
   "nbconvert_exporter": "python",
   "pygments_lexer": "ipython3",
   "version": "3.6.3"
  }
 },
 "nbformat": 4,
 "nbformat_minor": 2
}
