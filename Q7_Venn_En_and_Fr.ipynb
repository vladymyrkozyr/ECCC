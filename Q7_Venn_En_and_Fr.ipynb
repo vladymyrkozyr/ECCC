{
 "cells": [
  {
   "cell_type": "code",
   "execution_count": 1,
   "metadata": {
    "collapsed": true
   },
   "outputs": [],
   "source": [
    "import glob\n",
    "import os\n",
    "import sys\n",
    "import pandas as pd\n",
    "from matplotlib import pyplot as plt\n",
    "from matplotlib_venn import venn3, venn3_circles\n",
    "from pylab import *\n",
    "import seaborn as sns\n",
    "sns.set()\n",
    "\n",
    "pd.options.display.max_rows = 30"
   ]
  },
  {
   "cell_type": "code",
   "execution_count": 2,
   "metadata": {
    "collapsed": true
   },
   "outputs": [],
   "source": [
    "en_file = './EnglishData/Accounts/q7_output/q1_not_other_classes_en.csv'\n",
    "fr_file = './FrenchData/Accounts/q7_output/q1_not_other_classes_fr.csv'"
   ]
  },
  {
   "cell_type": "code",
   "execution_count": 3,
   "metadata": {},
   "outputs": [
    {
     "data": {
      "text/html": [
       "<div>\n",
       "<style scoped>\n",
       "    .dataframe tbody tr th:only-of-type {\n",
       "        vertical-align: middle;\n",
       "    }\n",
       "\n",
       "    .dataframe tbody tr th {\n",
       "        vertical-align: top;\n",
       "    }\n",
       "\n",
       "    .dataframe thead th {\n",
       "        text-align: right;\n",
       "    }\n",
       "</style>\n",
       "<table border=\"1\" class=\"dataframe\">\n",
       "  <thead>\n",
       "    <tr style=\"text-align: right;\">\n",
       "      <th></th>\n",
       "      <th>id</th>\n",
       "      <th>date_published</th>\n",
       "      <th>caption_original</th>\n",
       "      <th>matched_keywords</th>\n",
       "      <th>category</th>\n",
       "      <th>Economical</th>\n",
       "      <th>Environmental</th>\n",
       "      <th>Social</th>\n",
       "    </tr>\n",
       "  </thead>\n",
       "  <tbody>\n",
       "    <tr>\n",
       "      <th>0</th>\n",
       "      <td>895726583729856513</td>\n",
       "      <td>2017-08-10 19:20:34</td>\n",
       "      <td>Qausuittuq National Park is officially open! L...</td>\n",
       "      <td>['park', '#arctic']</td>\n",
       "      <td>['Environmental']</td>\n",
       "      <td>0</td>\n",
       "      <td>1</td>\n",
       "      <td>0</td>\n",
       "    </tr>\n",
       "    <tr>\n",
       "      <th>1</th>\n",
       "      <td>908858879999713280</td>\n",
       "      <td>2017-09-16 01:03:37</td>\n",
       "      <td>RT @WatertonLakesNP: Thank you to all the crew...</td>\n",
       "      <td>['park']</td>\n",
       "      <td>['Environmental']</td>\n",
       "      <td>0</td>\n",
       "      <td>1</td>\n",
       "      <td>0</td>\n",
       "    </tr>\n",
       "    <tr>\n",
       "      <th>2</th>\n",
       "      <td>930060241269673984</td>\n",
       "      <td>2017-11-13 13:10:15</td>\n",
       "      <td>It’s #WorldKindnessDay! It’s so important to b...</td>\n",
       "      <td>['ecosystem', 'biodiversity']</td>\n",
       "      <td>['Environmental']</td>\n",
       "      <td>0</td>\n",
       "      <td>1</td>\n",
       "      <td>0</td>\n",
       "    </tr>\n",
       "    <tr>\n",
       "      <th>3</th>\n",
       "      <td>924335183440109568</td>\n",
       "      <td>2017-10-28 18:00:55</td>\n",
       "      <td>Baby #bats are called \"pups\" and bats have onl...</td>\n",
       "      <td>['#bats', '#batweek']</td>\n",
       "      <td>['Environmental']</td>\n",
       "      <td>0</td>\n",
       "      <td>1</td>\n",
       "      <td>0</td>\n",
       "    </tr>\n",
       "    <tr>\n",
       "      <th>4</th>\n",
       "      <td>911924463461175298</td>\n",
       "      <td>2017-09-24 12:05:09</td>\n",
       "      <td>Happy #NationalForestWeek! 🌲 All week, we’ll b...</td>\n",
       "      <td>['park']</td>\n",
       "      <td>['Environmental']</td>\n",
       "      <td>0</td>\n",
       "      <td>1</td>\n",
       "      <td>0</td>\n",
       "    </tr>\n",
       "    <tr>\n",
       "      <th>...</th>\n",
       "      <td>...</td>\n",
       "      <td>...</td>\n",
       "      <td>...</td>\n",
       "      <td>...</td>\n",
       "      <td>...</td>\n",
       "      <td>...</td>\n",
       "      <td>...</td>\n",
       "      <td>...</td>\n",
       "    </tr>\n",
       "    <tr>\n",
       "      <th>42022</th>\n",
       "      <td>870703813769830401</td>\n",
       "      <td>2017-06-02 18:09:00</td>\n",
       "      <td>Nous partons pour la Chine! Découvrez l’impact...</td>\n",
       "      <td>['secteur', 'énergie', 'technologie', 'propre']</td>\n",
       "      <td>['Economical', 'Environmental']</td>\n",
       "      <td>1</td>\n",
       "      <td>1</td>\n",
       "      <td>0</td>\n",
       "    </tr>\n",
       "    <tr>\n",
       "      <th>42023</th>\n",
       "      <td>870717031196307456</td>\n",
       "      <td>2017-06-02 19:01:32</td>\n",
       "      <td>La recherche-développement à CanmetÉNERGIE con...</td>\n",
       "      <td>['propre']</td>\n",
       "      <td>['Environmental']</td>\n",
       "      <td>0</td>\n",
       "      <td>1</td>\n",
       "      <td>0</td>\n",
       "    </tr>\n",
       "    <tr>\n",
       "      <th>42024</th>\n",
       "      <td>870733046739337216</td>\n",
       "      <td>2017-06-02 20:05:10</td>\n",
       "      <td>L’éco-village #CanadaChine vu des airs #TechPr...</td>\n",
       "      <td>['air']</td>\n",
       "      <td>['Environmental']</td>\n",
       "      <td>0</td>\n",
       "      <td>1</td>\n",
       "      <td>0</td>\n",
       "    </tr>\n",
       "    <tr>\n",
       "      <th>42025</th>\n",
       "      <td>868089826289078274</td>\n",
       "      <td>2017-05-26 13:01:57</td>\n",
       "      <td>La CGC s’est servie du canot pour ses première...</td>\n",
       "      <td>['nord']</td>\n",
       "      <td>['Social']</td>\n",
       "      <td>0</td>\n",
       "      <td>0</td>\n",
       "      <td>1</td>\n",
       "    </tr>\n",
       "    <tr>\n",
       "      <th>42026</th>\n",
       "      <td>867365035395469313</td>\n",
       "      <td>2017-05-24 13:01:53</td>\n",
       "      <td>Ces restes fossilisés de poissons sont les fos...</td>\n",
       "      <td>['mer']</td>\n",
       "      <td>['Environmental']</td>\n",
       "      <td>0</td>\n",
       "      <td>1</td>\n",
       "      <td>0</td>\n",
       "    </tr>\n",
       "  </tbody>\n",
       "</table>\n",
       "<p>42027 rows × 8 columns</p>\n",
       "</div>"
      ],
      "text/plain": [
       "                       id       date_published  \\\n",
       "0      895726583729856513  2017-08-10 19:20:34   \n",
       "1      908858879999713280  2017-09-16 01:03:37   \n",
       "2      930060241269673984  2017-11-13 13:10:15   \n",
       "3      924335183440109568  2017-10-28 18:00:55   \n",
       "4      911924463461175298  2017-09-24 12:05:09   \n",
       "...                   ...                  ...   \n",
       "42022  870703813769830401  2017-06-02 18:09:00   \n",
       "42023  870717031196307456  2017-06-02 19:01:32   \n",
       "42024  870733046739337216  2017-06-02 20:05:10   \n",
       "42025  868089826289078274  2017-05-26 13:01:57   \n",
       "42026  867365035395469313  2017-05-24 13:01:53   \n",
       "\n",
       "                                        caption_original  \\\n",
       "0      Qausuittuq National Park is officially open! L...   \n",
       "1      RT @WatertonLakesNP: Thank you to all the crew...   \n",
       "2      It’s #WorldKindnessDay! It’s so important to b...   \n",
       "3      Baby #bats are called \"pups\" and bats have onl...   \n",
       "4      Happy #NationalForestWeek! 🌲 All week, we’ll b...   \n",
       "...                                                  ...   \n",
       "42022  Nous partons pour la Chine! Découvrez l’impact...   \n",
       "42023  La recherche-développement à CanmetÉNERGIE con...   \n",
       "42024  L’éco-village #CanadaChine vu des airs #TechPr...   \n",
       "42025  La CGC s’est servie du canot pour ses première...   \n",
       "42026  Ces restes fossilisés de poissons sont les fos...   \n",
       "\n",
       "                                      matched_keywords  \\\n",
       "0                                  ['park', '#arctic']   \n",
       "1                                             ['park']   \n",
       "2                        ['ecosystem', 'biodiversity']   \n",
       "3                                ['#bats', '#batweek']   \n",
       "4                                             ['park']   \n",
       "...                                                ...   \n",
       "42022  ['secteur', 'énergie', 'technologie', 'propre']   \n",
       "42023                                       ['propre']   \n",
       "42024                                          ['air']   \n",
       "42025                                         ['nord']   \n",
       "42026                                          ['mer']   \n",
       "\n",
       "                              category  Economical  Environmental  Social  \n",
       "0                    ['Environmental']           0              1       0  \n",
       "1                    ['Environmental']           0              1       0  \n",
       "2                    ['Environmental']           0              1       0  \n",
       "3                    ['Environmental']           0              1       0  \n",
       "4                    ['Environmental']           0              1       0  \n",
       "...                                ...         ...            ...     ...  \n",
       "42022  ['Economical', 'Environmental']           1              1       0  \n",
       "42023                ['Environmental']           0              1       0  \n",
       "42024                ['Environmental']           0              1       0  \n",
       "42025                       ['Social']           0              0       1  \n",
       "42026                ['Environmental']           0              1       0  \n",
       "\n",
       "[42027 rows x 8 columns]"
      ]
     },
     "execution_count": 3,
     "metadata": {},
     "output_type": "execute_result"
    }
   ],
   "source": [
    "pd.options.display.max_rows = 10\n",
    "# read csv files and save targt columns to dataframe\n",
    "df_en = pd.read_csv(en_file, encoding = 'utf-8')\n",
    "df_fr = pd.read_csv(fr_file, encoding = 'utf-8')\n",
    "df = df_en.append(df_fr, ignore_index=True)\n",
    "df"
   ]
  },
  {
   "cell_type": "markdown",
   "metadata": {},
   "source": [
    "# Plot Venn Diagram"
   ]
  },
  {
   "cell_type": "code",
   "execution_count": 4,
   "metadata": {
    "collapsed": true
   },
   "outputs": [],
   "source": [
    "econ = set(df[df['Economical'] == 1].id)\n",
    "env = set(df[df['Environmental'] == 1].id)\n",
    "soc = set(df[df['Social'] == 1].id)"
   ]
  },
  {
   "cell_type": "code",
   "execution_count": 5,
   "metadata": {},
   "outputs": [
    {
     "data": {
      "text/plain": [
       "<matplotlib.figure.Figure at 0x1a11473a20>"
      ]
     },
     "metadata": {},
     "output_type": "display_data"
    },
    {
     "data": {
      "image/png": "[encoded data removed]",
      "text/plain": [
       "<matplotlib.figure.Figure at 0x1a11473b70>"
      ]
     },
     "metadata": {},
     "output_type": "display_data"
    }
   ],
   "source": [
    "plt.clf()\n",
    "plt.figure(figsize=(10,10))\n",
    "rcParams['font.size'] = 13\n",
    "venn3([econ, env, soc], ('Economical', 'Environmental', 'Social'))\n",
    "plt.savefig('./q7_venn_diagram_en_and_fr.png')\n",
    "plt.show()"
   ]
  },
  {
   "cell_type": "code",
   "execution_count": null,
   "metadata": {
    "collapsed": true
   },
   "outputs": [],
   "source": []
  }
 ],
 "metadata": {
  "kernelspec": {
   "display_name": "Python 3",
   "language": "python",
   "name": "python3"
  },
  "language_info": {
   "codemirror_mode": {
    "name": "ipython",
    "version": 3
   },
   "file_extension": ".py",
   "mimetype": "text/x-python",
   "name": "python",
   "nbconvert_exporter": "python",
   "pygments_lexer": "ipython3",
   "version": "3.6.2"
  }
 },
 "nbformat": 4,
 "nbformat_minor": 2
}
