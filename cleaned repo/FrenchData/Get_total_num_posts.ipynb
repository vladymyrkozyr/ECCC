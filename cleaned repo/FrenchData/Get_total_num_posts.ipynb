{
 "cells": [
  {
   "cell_type": "code",
   "execution_count": 15,
   "metadata": {
    "collapsed": true
   },
   "outputs": [],
   "source": [
    "import glob\n",
    "import os\n",
    "import sys\n",
    "import pandas as pd"
   ]
  },
  {
   "cell_type": "code",
   "execution_count": 16,
   "metadata": {
    "collapsed": true
   },
   "outputs": [],
   "source": [
    "fr_data_folder = './Accounts/q1_output/*.csv'\n",
    "en_data_folder = '../EnglishData/Accounts/q1_output/*.csv'"
   ]
  },
  {
   "cell_type": "code",
   "execution_count": 17,
   "metadata": {},
   "outputs": [
    {
     "data": {
      "text/html": [
       "<div>\n",
       "<style>\n",
       "    .dataframe thead tr:only-child th {\n",
       "        text-align: right;\n",
       "    }\n",
       "\n",
       "    .dataframe thead th {\n",
       "        text-align: left;\n",
       "    }\n",
       "\n",
       "    .dataframe tbody tr th {\n",
       "        vertical-align: top;\n",
       "    }\n",
       "</style>\n",
       "<table border=\"1\" class=\"dataframe\">\n",
       "  <thead>\n",
       "    <tr style=\"text-align: right;\">\n",
       "      <th></th>\n",
       "      <th>Account</th>\n",
       "      <th>number of posts</th>\n",
       "    </tr>\n",
       "  </thead>\n",
       "  <tbody>\n",
       "  </tbody>\n",
       "</table>\n",
       "</div>"
      ],
      "text/plain": [
       "Empty DataFrame\n",
       "Columns: [Account, number of posts]\n",
       "Index: []"
      ]
     },
     "execution_count": 17,
     "metadata": {},
     "output_type": "execute_result"
    }
   ],
   "source": [
    "pd.options.display.max_rows = 10\n",
    "# read csv files and save targt columns to dataframe\n",
    "filePaths = glob.glob(fr_data_folder)  \n",
    "outputDF = pd.DataFrame(columns=['Account', 'number of posts'])\n",
    "outputDF"
   ]
  },
  {
   "cell_type": "code",
   "execution_count": 18,
   "metadata": {},
   "outputs": [
    {
     "name": "stdout",
     "output_type": "stream",
     "text": [
      "./Accounts/q1_output\\AAC_Canada_tweets.csv\n",
      "2924\n",
      "./Accounts/q1_output\\AgricultureCanadienne_facebook_statuses.csv\n",
      "1096\n",
      "./Accounts/q1_output\\BSTCanada_tweets.csv\n",
      "1436\n",
      "./Accounts/q1_output\\DemandezaISDE_tweets.csv\n",
      "0\n",
      "./Accounts/q1_output\\environnementcan_posts.csv\n",
      "240\n",
      "./Accounts/q1_output\\environnementca_tweets.csv\n",
      "3132\n",
      "./Accounts/q1_output\\EnvironnementetChangementclimatique_facebook_statuses.csv\n",
      "154\n",
      "./Accounts/q1_output\\EnvironnementetressourcesnaturellesauCanada_facebook_statuses.csv\n",
      "1364\n",
      "./Accounts/q1_output\\GardeCotiereCanadienne_facebook_statuses.csv\n",
      "260\n",
      "./Accounts/q1_output\\GCAutochtones_tweets.csv\n",
      "3153\n",
      "./Accounts/q1_output\\GCC_CCG_tweets.csv\n",
      "3149\n",
      "./Accounts/q1_output\\MineGiant_tweets.csv\n",
      "35\n",
      "./Accounts/q1_output\\ministre_ec_tweets.csv\n",
      "3172\n",
      "./Accounts/q1_output\\MPO_Centre_tweets.csv\n",
      "1470\n",
      "./Accounts/q1_output\\MPO_DFO_tweets.csv\n",
      "2235\n",
      "./Accounts/q1_output\\MPO_GCC_Quebec_tweets.csv\n",
      "917\n",
      "./Accounts/q1_output\\MPO_Golfe_tweets.csv\n",
      "546\n",
      "./Accounts/q1_output\\MPO_MAR_tweets.csv\n",
      "1123\n",
      "./Accounts/q1_output\\MPO_Pacifique_tweets.csv\n",
      "1451\n",
      "./Accounts/q1_output\\MPO_Science_tweets.csv\n",
      "1471\n",
      "./Accounts/q1_output\\MPO_TNL_tweets.csv\n",
      "2575\n",
      "./Accounts/q1_output\\OfficeDesTransportsDuCanada_facebook_statuses.csv\n",
      "345\n",
      "./Accounts/q1_output\\OTC_gc_tweets.csv\n",
      "714\n",
      "./Accounts/q1_output\\parcs.canada_posts.csv\n",
      "412\n",
      "./Accounts/q1_output\\ParcsCanada_facebook_statuses.csv\n",
      "1245\n",
      "./Accounts/q1_output\\ParcsCanada_tweets.csv\n",
      "3006\n",
      "./Accounts/q1_output\\PechesOceansCanada_facebook_statuses.csv\n",
      "344\n",
      "./Accounts/q1_output\\QuestionsdargentCanada_facebook_statuses.csv\n",
      "992\n",
      "./Accounts/q1_output\\ressourcenaturellescanada_posts.csv\n",
      "237\n",
      "./Accounts/q1_output\\RNCan_tweets.csv\n",
      "3123\n",
      "./Accounts/q1_output\\TransportsetInfrastructureauCanada_facebook_statuses.csv\n",
      "1329\n",
      "./Accounts/q1_output\\Transports_gc_tweets.csv\n",
      "3047\n"
     ]
    }
   ],
   "source": [
    "for filename in filePaths:\n",
    "    name = os.path.basename(filename)\n",
    "    print(filename)    \n",
    "    df_i = pd.read_csv(filename, encoding = 'utf-8')    \n",
    "    row = dict([('Account', name), ('number of posts', len(df_i))])\n",
    "    outputDF = outputDF.append(row, ignore_index=True)\n",
    "    print(len(df_i))"
   ]
  },
  {
   "cell_type": "code",
   "execution_count": 19,
   "metadata": {
    "collapsed": true
   },
   "outputs": [],
   "source": [
    "outputDF.to_csv('total_num_posts_fr.csv', index=None, encoding='utf-8')"
   ]
  },
  {
   "cell_type": "code",
   "execution_count": 20,
   "metadata": {},
   "outputs": [
    {
     "data": {
      "text/html": [
       "<div>\n",
       "<style>\n",
       "    .dataframe thead tr:only-child th {\n",
       "        text-align: right;\n",
       "    }\n",
       "\n",
       "    .dataframe thead th {\n",
       "        text-align: left;\n",
       "    }\n",
       "\n",
       "    .dataframe tbody tr th {\n",
       "        vertical-align: top;\n",
       "    }\n",
       "</style>\n",
       "<table border=\"1\" class=\"dataframe\">\n",
       "  <thead>\n",
       "    <tr style=\"text-align: right;\">\n",
       "      <th></th>\n",
       "      <th>Account</th>\n",
       "      <th>number of posts</th>\n",
       "    </tr>\n",
       "  </thead>\n",
       "  <tbody>\n",
       "  </tbody>\n",
       "</table>\n",
       "</div>"
      ],
      "text/plain": [
       "Empty DataFrame\n",
       "Columns: [Account, number of posts]\n",
       "Index: []"
      ]
     },
     "execution_count": 20,
     "metadata": {},
     "output_type": "execute_result"
    }
   ],
   "source": [
    "filePaths = glob.glob(en_data_folder)  \n",
    "outputDF = pd.DataFrame(columns=['Account', 'number of posts'])\n",
    "outputDF"
   ]
  },
  {
   "cell_type": "code",
   "execution_count": 21,
   "metadata": {},
   "outputs": [
    {
     "name": "stdout",
     "output_type": "stream",
     "text": [
      "../EnglishData/Accounts/q1_output\\AAFC_Canada_tweets.csv\n",
      "3105\n",
      "../EnglishData/Accounts/q1_output\\AskISED_tweets.csv\n",
      "1\n",
      "../EnglishData/Accounts/q1_output\\CanadianAgriculture_facebook_statuses.csv\n",
      "1084\n",
      "../EnglishData/Accounts/q1_output\\CanadianCoastGuard_facebook_statuses.csv\n",
      "260\n",
      "../EnglishData/Accounts/q1_output\\CanadianTransportationAgency_facebook_statuses.csv\n",
      "360\n",
      "../EnglishData/Accounts/q1_output\\canenvironment_posts.csv\n",
      "251\n",
      "../EnglishData/Accounts/q1_output\\CCG_GCC_tweets.csv\n",
      "3086\n",
      "../EnglishData/Accounts/q1_output\\CTA_gc_tweets.csv\n",
      "748\n",
      "../EnglishData/Accounts/q1_output\\DFO_CCG_Quebec_tweets.csv\n",
      "917\n",
      "../EnglishData/Accounts/q1_output\\DFO_Central_tweets.csv\n",
      "1549\n",
      "../EnglishData/Accounts/q1_output\\DFO_Gulf_tweets.csv\n",
      "549\n",
      "../EnglishData/Accounts/q1_output\\DFO_MAR_tweets.csv\n",
      "1351\n",
      "../EnglishData/Accounts/q1_output\\DFO_MPO_tweets.csv\n",
      "2262\n",
      "../EnglishData/Accounts/q1_output\\DFO_NL_tweets.csv\n",
      "2886\n",
      "../EnglishData/Accounts/q1_output\\DFO_Pacific_tweets.csv\n",
      "1505\n",
      "../EnglishData/Accounts/q1_output\\DFO_Science_tweets.csv\n",
      "1533\n",
      "../EnglishData/Accounts/q1_output\\ec_minister_tweets.csv\n",
      "3100\n",
      "../EnglishData/Accounts/q1_output\\ENERGYSTAR_CAN_tweets.csv\n",
      "1793\n",
      "../EnglishData/Accounts/q1_output\\EnvironmentandClimateChange_facebook_statuses.csv\n",
      "157\n",
      "../EnglishData/Accounts/q1_output\\EnvironmentandNaturalResourcesinCanada_facebook_statuses.csv\n",
      "1372\n",
      "../EnglishData/Accounts/q1_output\\environmentca_tweets.csv\n",
      "2942\n",
      "../EnglishData/Accounts/q1_output\\FisheriesOceansCanada_facebook_statuses.csv\n",
      "343\n",
      "../EnglishData/Accounts/q1_output\\GCIndigenous_tweets.csv\n",
      "3122\n",
      "../EnglishData/Accounts/q1_output\\GiantMine_tweets.csv\n",
      "47\n",
      "../EnglishData/Accounts/q1_output\\GovCanNorth_facebook_statuses.csv\n",
      "360\n",
      "../EnglishData/Accounts/q1_output\\naturalresourcescanada_posts.csv\n",
      "237\n",
      "../EnglishData/Accounts/q1_output\\NRCan_tweets.csv\n",
      "2983\n",
      "../EnglishData/Accounts/q1_output\\parks.canada_posts.csv\n",
      "412\n",
      "../EnglishData/Accounts/q1_output\\ParksCanada_facebook_statuses.csv\n",
      "1233\n",
      "../EnglishData/Accounts/q1_output\\ParksCanada_tweets.csv\n",
      "777\n",
      "../EnglishData/Accounts/q1_output\\TransportandInfrastructureinCanada_facebook_statuses.csv\n",
      "1326\n",
      "../EnglishData/Accounts/q1_output\\Transport_gc_tweets.csv\n",
      "2732\n",
      "../EnglishData/Accounts/q1_output\\TSBCanada_tweets.csv\n",
      "1441\n",
      "../EnglishData/Accounts/q1_output\\YourMoneyMattersCanada_facebook_statuses.csv\n",
      "995\n"
     ]
    }
   ],
   "source": [
    "for filename in filePaths:\n",
    "    name = os.path.basename(filename)\n",
    "    print(filename)    \n",
    "    df_i = pd.read_csv(filename, encoding = 'utf-8')    \n",
    "    row = dict([('Account', name), ('number of posts', len(df_i))])\n",
    "    outputDF = outputDF.append(row, ignore_index=True)\n",
    "    print(len(df_i))"
   ]
  },
  {
   "cell_type": "code",
   "execution_count": 22,
   "metadata": {
    "collapsed": true
   },
   "outputs": [],
   "source": [
    "outputDF.to_csv('total_num_posts_en.csv', index=None, encoding='utf-8')"
   ]
  },
  {
   "cell_type": "code",
   "execution_count": null,
   "metadata": {
    "collapsed": true
   },
   "outputs": [],
   "source": []
  }
 ],
 "metadata": {
  "kernelspec": {
   "display_name": "Python 3",
   "language": "python",
   "name": "python3"
  },
  "language_info": {
   "codemirror_mode": {
    "name": "ipython",
    "version": 3
   },
   "file_extension": ".py",
   "mimetype": "text/x-python",
   "name": "python",
   "nbconvert_exporter": "python",
   "pygments_lexer": "ipython3",
   "version": "3.6.3"
  }
 },
 "nbformat": 4,
 "nbformat_minor": 2
}
