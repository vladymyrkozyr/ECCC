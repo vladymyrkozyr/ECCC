{
 "cells": [
  {
   "cell_type": "code",
   "execution_count": 1,
   "metadata": {
    "collapsed": true
   },
   "outputs": [],
   "source": [
    "import glob\n",
    "import os\n",
    "import sys\n",
    "import pandas as pd\n",
    "from matplotlib import pyplot as plt\n",
    "from matplotlib_venn import venn3, venn3_circles\n",
    "from pylab import *\n",
    "import seaborn as sns\n",
    "sns.set()\n",
    "\n",
    "pd.options.display.max_rows = 30"
   ]
  },
  {
   "cell_type": "code",
   "execution_count": 2,
   "metadata": {
    "collapsed": true
   },
   "outputs": [],
   "source": [
    "data_folder = './Accounts/q1_output/*.csv'\n",
    "\n",
    "OUTPUT_COLS = ['id','date_published','link','caption_original','caption_cleaned','hashtags','num_comments',\n",
    "               'num_shares','num_likes','Reactions_SUM','matched_keywords','language',\n",
    "               'average_sentiment_score','sentiment','category',]"
   ]
  },
  {
   "cell_type": "code",
   "execution_count": 3,
   "metadata": {
    "collapsed": true
   },
   "outputs": [],
   "source": [
    "# create output directory\n",
    "outputDir = os.path.dirname(data_folder).replace('q1_output', 'q7_output') + '/'\n",
    "if not os.path.exists(outputDir):\n",
    "    os.makedirs(outputDir)"
   ]
  },
  {
   "cell_type": "code",
   "execution_count": 4,
   "metadata": {},
   "outputs": [
    {
     "name": "stdout",
     "output_type": "stream",
     "text": [
      "./Accounts/q1_output/QuestionsdargentCanada_facebook_statuses.csv\n",
      "./Accounts/q1_output/MPO_Centre_tweets.csv\n",
      "./Accounts/q1_output/PechesOceansCanada_facebook_statuses.csv\n",
      "./Accounts/q1_output/GCC_CCG_tweets.csv\n",
      "./Accounts/q1_output/GCAutochtones_tweets.csv\n",
      "./Accounts/q1_output/MPO_Science_tweets.csv\n",
      "./Accounts/q1_output/ressourcenaturellescanada_posts.csv\n",
      "./Accounts/q1_output/MPO_DFO_tweets.csv\n",
      "./Accounts/q1_output/TransportsetInfrastructureauCanada_facebook_statuses.csv\n",
      "./Accounts/q1_output/AAC_Canada_tweets.csv\n",
      "./Accounts/q1_output/EnvironnementetressourcesnaturellesauCanada_facebook_statuses.csv\n",
      "./Accounts/q1_output/GardeCotiereCanadienne_facebook_statuses.csv\n",
      "./Accounts/q1_output/ministre_ec_tweets.csv\n",
      "./Accounts/q1_output/MPO_GCC_Quebec_tweets.csv\n",
      "./Accounts/q1_output/OfficeDesTransportsDuCanada_facebook_statuses.csv\n",
      "./Accounts/q1_output/environnementcan_posts.csv\n",
      "./Accounts/q1_output/MineGiant_tweets.csv\n",
      "./Accounts/q1_output/MPO_TNL_tweets.csv\n",
      "./Accounts/q1_output/parcs.canada_posts.csv\n",
      "./Accounts/q1_output/MPO_Golfe_tweets.csv\n",
      "./Accounts/q1_output/ParcsCanada_facebook_statuses.csv\n",
      "./Accounts/q1_output/AgricultureCanadienne_facebook_statuses.csv\n",
      "./Accounts/q1_output/MPO_Pacifique_tweets.csv\n",
      "./Accounts/q1_output/environnementca_tweets.csv\n",
      "./Accounts/q1_output/OTC_gc_tweets.csv\n",
      "./Accounts/q1_output/EnvironnementetChangementclimatique_facebook_statuses.csv\n",
      "./Accounts/q1_output/ParcsCanada_tweets.csv\n",
      "./Accounts/q1_output/BSTCanada_tweets.csv\n",
      "./Accounts/q1_output/MPO_MAR_tweets.csv\n",
      "./Accounts/q1_output/Transports_gc_tweets.csv\n",
      "./Accounts/q1_output/DemandezaISDE_tweets.csv\n",
      "./Accounts/q1_output/RNCan_tweets.csv\n"
     ]
    }
   ],
   "source": [
    "pd.options.display.max_rows = 10\n",
    "# read csv files and save targt columns to dataframe\n",
    "filePaths = glob.glob(data_folder)  \n",
    "data_df = pd.DataFrame(columns=OUTPUT_COLS)\n",
    "for filename in filePaths:\n",
    "    print(filename)    \n",
    "    df_i = pd.read_csv(filename, encoding = 'utf-8')\n",
    "    data_df = data_df.append(df_i, ignore_index=True)"
   ]
  },
  {
   "cell_type": "code",
   "execution_count": 5,
   "metadata": {},
   "outputs": [],
   "source": [
    "df = data_df[['id', 'date_published','caption_original','matched_keywords','category']]\n",
    "df = df[~df['category'].str.contains('other')]"
   ]
  },
  {
   "cell_type": "code",
   "execution_count": 6,
   "metadata": {},
   "outputs": [
    {
     "data": {
      "text/html": [
       "<div>\n",
       "<style scoped>\n",
       "    .dataframe tbody tr th:only-of-type {\n",
       "        vertical-align: middle;\n",
       "    }\n",
       "\n",
       "    .dataframe tbody tr th {\n",
       "        vertical-align: top;\n",
       "    }\n",
       "\n",
       "    .dataframe thead th {\n",
       "        text-align: right;\n",
       "    }\n",
       "</style>\n",
       "<table border=\"1\" class=\"dataframe\">\n",
       "  <thead>\n",
       "    <tr style=\"text-align: right;\">\n",
       "      <th></th>\n",
       "      <th>id</th>\n",
       "      <th>date_published</th>\n",
       "      <th>caption_original</th>\n",
       "      <th>matched_keywords</th>\n",
       "      <th>category</th>\n",
       "      <th>Economical</th>\n",
       "      <th>Environmental</th>\n",
       "      <th>Social</th>\n",
       "    </tr>\n",
       "  </thead>\n",
       "  <tbody>\n",
       "    <tr>\n",
       "      <th>0</th>\n",
       "      <td>485734081568161_685291394945761</td>\n",
       "      <td>2016-02-23 11:45:32</td>\n",
       "      <td>ALERTE À LA FRAUDE: Prenez garde aux fraudeurs...</td>\n",
       "      <td>['revenu']</td>\n",
       "      <td>['Economical']</td>\n",
       "      <td>1</td>\n",
       "      <td>0</td>\n",
       "      <td>0</td>\n",
       "    </tr>\n",
       "    <tr>\n",
       "      <th>2</th>\n",
       "      <td>485734081568161_676778492463718</td>\n",
       "      <td>2016-02-02 11:46:01</td>\n",
       "      <td>À compter de mars 2016, les entreprises canadi...</td>\n",
       "      <td>['changement']</td>\n",
       "      <td>['Social']</td>\n",
       "      <td>0</td>\n",
       "      <td>0</td>\n",
       "      <td>1</td>\n",
       "    </tr>\n",
       "    <tr>\n",
       "      <th>3</th>\n",
       "      <td>485734081568161_726632987478268</td>\n",
       "      <td>2016-05-16 17:45:30</td>\n",
       "      <td>Saviez-vous qu’il est possible de recevoir jus...</td>\n",
       "      <td>['enfant', 'propre', 'enfant']</td>\n",
       "      <td>['Environmental', 'Social']</td>\n",
       "      <td>0</td>\n",
       "      <td>1</td>\n",
       "      <td>1</td>\n",
       "    </tr>\n",
       "    <tr>\n",
       "      <th>4</th>\n",
       "      <td>485734081568161_674594319348802</td>\n",
       "      <td>2016-01-28 11:46:07</td>\n",
       "      <td>Les frais de garde d’enfants grugent une bonne...</td>\n",
       "      <td>['revenu', 'enfant']</td>\n",
       "      <td>['Economical', 'Social']</td>\n",
       "      <td>1</td>\n",
       "      <td>0</td>\n",
       "      <td>1</td>\n",
       "    </tr>\n",
       "    <tr>\n",
       "      <th>6</th>\n",
       "      <td>485734081568161_695050050636562</td>\n",
       "      <td>2016-03-16 13:45:16</td>\n",
       "      <td>Vous cherchez un emploi offrant des heures de ...</td>\n",
       "      <td>['emploi']</td>\n",
       "      <td>['Economical']</td>\n",
       "      <td>1</td>\n",
       "      <td>0</td>\n",
       "      <td>0</td>\n",
       "    </tr>\n",
       "    <tr>\n",
       "      <th>...</th>\n",
       "      <td>...</td>\n",
       "      <td>...</td>\n",
       "      <td>...</td>\n",
       "      <td>...</td>\n",
       "      <td>...</td>\n",
       "      <td>...</td>\n",
       "      <td>...</td>\n",
       "      <td>...</td>\n",
       "    </tr>\n",
       "    <tr>\n",
       "      <th>46667</th>\n",
       "      <td>870703813769830401</td>\n",
       "      <td>2017-06-02 18:09:00</td>\n",
       "      <td>Nous partons pour la Chine! Découvrez l’impact...</td>\n",
       "      <td>['secteur', 'énergie', 'technologie', 'propre']</td>\n",
       "      <td>['Economical', 'Environmental']</td>\n",
       "      <td>1</td>\n",
       "      <td>1</td>\n",
       "      <td>0</td>\n",
       "    </tr>\n",
       "    <tr>\n",
       "      <th>46668</th>\n",
       "      <td>870717031196307456</td>\n",
       "      <td>2017-06-02 19:01:32</td>\n",
       "      <td>La recherche-développement à CanmetÉNERGIE con...</td>\n",
       "      <td>['propre']</td>\n",
       "      <td>['Environmental']</td>\n",
       "      <td>0</td>\n",
       "      <td>1</td>\n",
       "      <td>0</td>\n",
       "    </tr>\n",
       "    <tr>\n",
       "      <th>46671</th>\n",
       "      <td>870733046739337216</td>\n",
       "      <td>2017-06-02 20:05:10</td>\n",
       "      <td>L’éco-village #CanadaChine vu des airs #TechPr...</td>\n",
       "      <td>['air']</td>\n",
       "      <td>['Environmental']</td>\n",
       "      <td>0</td>\n",
       "      <td>1</td>\n",
       "      <td>0</td>\n",
       "    </tr>\n",
       "    <tr>\n",
       "      <th>46673</th>\n",
       "      <td>868089826289078274</td>\n",
       "      <td>2017-05-26 13:01:57</td>\n",
       "      <td>La CGC s’est servie du canot pour ses première...</td>\n",
       "      <td>['nord']</td>\n",
       "      <td>['Social']</td>\n",
       "      <td>0</td>\n",
       "      <td>0</td>\n",
       "      <td>1</td>\n",
       "    </tr>\n",
       "    <tr>\n",
       "      <th>46695</th>\n",
       "      <td>867365035395469313</td>\n",
       "      <td>2017-05-24 13:01:53</td>\n",
       "      <td>Ces restes fossilisés de poissons sont les fos...</td>\n",
       "      <td>['mer']</td>\n",
       "      <td>['Environmental']</td>\n",
       "      <td>0</td>\n",
       "      <td>1</td>\n",
       "      <td>0</td>\n",
       "    </tr>\n",
       "  </tbody>\n",
       "</table>\n",
       "<p>18957 rows × 8 columns</p>\n",
       "</div>"
      ],
      "text/plain": [
       "                                    id       date_published  \\\n",
       "0      485734081568161_685291394945761  2016-02-23 11:45:32   \n",
       "2      485734081568161_676778492463718  2016-02-02 11:46:01   \n",
       "3      485734081568161_726632987478268  2016-05-16 17:45:30   \n",
       "4      485734081568161_674594319348802  2016-01-28 11:46:07   \n",
       "6      485734081568161_695050050636562  2016-03-16 13:45:16   \n",
       "...                                ...                  ...   \n",
       "46667               870703813769830401  2017-06-02 18:09:00   \n",
       "46668               870717031196307456  2017-06-02 19:01:32   \n",
       "46671               870733046739337216  2017-06-02 20:05:10   \n",
       "46673               868089826289078274  2017-05-26 13:01:57   \n",
       "46695               867365035395469313  2017-05-24 13:01:53   \n",
       "\n",
       "                                        caption_original  \\\n",
       "0      ALERTE À LA FRAUDE: Prenez garde aux fraudeurs...   \n",
       "2      À compter de mars 2016, les entreprises canadi...   \n",
       "3      Saviez-vous qu’il est possible de recevoir jus...   \n",
       "4      Les frais de garde d’enfants grugent une bonne...   \n",
       "6      Vous cherchez un emploi offrant des heures de ...   \n",
       "...                                                  ...   \n",
       "46667  Nous partons pour la Chine! Découvrez l’impact...   \n",
       "46668  La recherche-développement à CanmetÉNERGIE con...   \n",
       "46671  L’éco-village #CanadaChine vu des airs #TechPr...   \n",
       "46673  La CGC s’est servie du canot pour ses première...   \n",
       "46695  Ces restes fossilisés de poissons sont les fos...   \n",
       "\n",
       "                                      matched_keywords  \\\n",
       "0                                           ['revenu']   \n",
       "2                                       ['changement']   \n",
       "3                       ['enfant', 'propre', 'enfant']   \n",
       "4                                 ['revenu', 'enfant']   \n",
       "6                                           ['emploi']   \n",
       "...                                                ...   \n",
       "46667  ['secteur', 'énergie', 'technologie', 'propre']   \n",
       "46668                                       ['propre']   \n",
       "46671                                          ['air']   \n",
       "46673                                         ['nord']   \n",
       "46695                                          ['mer']   \n",
       "\n",
       "                              category  Economical  Environmental  Social  \n",
       "0                       ['Economical']           1              0       0  \n",
       "2                           ['Social']           0              0       1  \n",
       "3          ['Environmental', 'Social']           0              1       1  \n",
       "4             ['Economical', 'Social']           1              0       1  \n",
       "6                       ['Economical']           1              0       0  \n",
       "...                                ...         ...            ...     ...  \n",
       "46667  ['Economical', 'Environmental']           1              1       0  \n",
       "46668                ['Environmental']           0              1       0  \n",
       "46671                ['Environmental']           0              1       0  \n",
       "46673                       ['Social']           0              0       1  \n",
       "46695                ['Environmental']           0              1       0  \n",
       "\n",
       "[18957 rows x 8 columns]"
      ]
     },
     "execution_count": 6,
     "metadata": {},
     "output_type": "execute_result"
    }
   ],
   "source": [
    "col_list = ['Economical', 'Environmental', 'Social']\n",
    "for col in col_list:\n",
    "    df[col] = 0\n",
    "    df.loc[df.category.str.contains(col), col] = 1\n",
    "df.to_csv(outputDir + 'q1_not_other_classes_fr.csv', index=None, encoding='utf-8')\n",
    "df"
   ]
  },
  {
   "cell_type": "markdown",
   "metadata": {},
   "source": [
    "# Plot Venn Diagram"
   ]
  },
  {
   "cell_type": "code",
   "execution_count": 7,
   "metadata": {
    "collapsed": true
   },
   "outputs": [],
   "source": [
    "econ = set(df[df['Economical'] == 1].id)\n",
    "env = set(df[df['Environmental'] == 1].id)\n",
    "soc = set(df[df['Social'] == 1].id)"
   ]
  },
  {
   "cell_type": "code",
   "execution_count": 8,
   "metadata": {},
   "outputs": [
    {
     "data": {
      "text/plain": [
       "<matplotlib.figure.Figure at 0x1a0a30d668>"
      ]
     },
     "metadata": {},
     "output_type": "display_data"
    },
    {
     "data": {
      "image/png": "[encoded data removed]",
      "text/plain": [
       "<matplotlib.figure.Figure at 0x1a0a30d748>"
      ]
     },
     "metadata": {},
     "output_type": "display_data"
    }
   ],
   "source": [
    "plt.clf()\n",
    "plt.figure(figsize=(10,10))\n",
    "rcParams['font.size'] = 13\n",
    "venn3([econ, env, soc], ('Economical', 'Environmental', 'Social'))\n",
    "plt.savefig(outputDir + 'q7_venn_diagram_fr.png')\n",
    "plt.show()"
   ]
  },
  {
   "cell_type": "code",
   "execution_count": null,
   "metadata": {
    "collapsed": true
   },
   "outputs": [],
   "source": []
  }
 ],
 "metadata": {
  "kernelspec": {
   "display_name": "Python 3",
   "language": "python",
   "name": "python3"
  },
  "language_info": {
   "codemirror_mode": {
    "name": "ipython",
    "version": 3
   },
   "file_extension": ".py",
   "mimetype": "text/x-python",
   "name": "python",
   "nbconvert_exporter": "python",
   "pygments_lexer": "ipython3",
   "version": "3.6.2"
  }
 },
 "nbformat": 4,
 "nbformat_minor": 2
}
